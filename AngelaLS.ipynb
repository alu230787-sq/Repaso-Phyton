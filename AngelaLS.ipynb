{
  "nbformat": 4,
  "nbformat_minor": 0,
  "metadata": {
    "colab": {
      "provenance": [],
      "authorship_tag": "ABX9TyMdhMdZDvPQOdCrCVxDTUT6",
      "include_colab_link": true
    },
    "kernelspec": {
      "name": "python3",
      "display_name": "Python 3"
    },
    "language_info": {
      "name": "python"
    }
  },
  "cells": [
    {
      "cell_type": "markdown",
      "metadata": {
        "id": "view-in-github",
        "colab_type": "text"
      },
      "source": [
        "<a href=\"https://colab.research.google.com/github/alu230787-sq/Repaso-Phyton/blob/main/AngelaLS.ipynb\" target=\"_parent\"><img src=\"https://colab.research.google.com/assets/colab-badge.svg\" alt=\"Open In Colab\"/></a>"
      ]
    },
    {
      "cell_type": "code",
      "execution_count": null,
      "metadata": {
        "id": "Ku1O6OhJz6gg"
      },
      "outputs": [],
      "source": []
    },
    {
      "cell_type": "markdown",
      "source": [
        "Programa 1 en python para imprimir mi nombre con hola mundo"
      ],
      "metadata": {
        "id": "70GoPNtZ0KR1"
      }
    },
    {
      "cell_type": "code",
      "source": [
        "print (\"Hola Mundo\")\n",
        "nombre=(input(\"Captura tu nombre\"))\n",
        "print (nombre)"
      ],
      "metadata": {
        "colab": {
          "base_uri": "https://localhost:8080/"
        },
        "id": "zD4aqCDk0U6-",
        "outputId": "3634a1cd-479b-4edc-9036-5def02579179"
      },
      "execution_count": 1,
      "outputs": [
        {
          "output_type": "stream",
          "name": "stdout",
          "text": [
            "Hola Mundo\n",
            "Captura tu nombreangela\n",
            "angela\n"
          ]
        }
      ]
    },
    {
      "cell_type": "markdown",
      "source": [
        "Programa 2 capturar nombre, paterno y materno e imprimirlo en pantalla\n"
      ],
      "metadata": {
        "id": "cZSFtmmS1Zrp"
      }
    },
    {
      "cell_type": "code",
      "source": [
        "nombre=(input(\"Captura tu nombre \"))\n",
        "apellidop=(input(\"Captura tu apellido paterno \"))\n",
        "apellidom=(input(\"Captura tu apellido materno \"))\n",
        "print (nombre+\" \"+apellidop+\" \"+apellidom)"
      ],
      "metadata": {
        "colab": {
          "base_uri": "https://localhost:8080/"
        },
        "id": "SFtsPfIi1h6J",
        "outputId": "2dacab53-dafb-41ec-94bc-30aa83810887"
      },
      "execution_count": 2,
      "outputs": [
        {
          "output_type": "stream",
          "name": "stdout",
          "text": [
            "Captura tu nombre angela\n",
            "Captura tu apellido paterno lira\n",
            "Captura tu apellido materno sandate\n",
            "angela lira sandate\n"
          ]
        }
      ]
    }
  ]
}