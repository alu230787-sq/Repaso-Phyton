{
  "nbformat": 4,
  "nbformat_minor": 0,
  "metadata": {
    "colab": {
      "provenance": [],
      "authorship_tag": "ABX9TyPdPv2yHDtopCIgyAvNtOcj",
      "include_colab_link": true
    },
    "kernelspec": {
      "name": "python3",
      "display_name": "Python 3"
    },
    "language_info": {
      "name": "python"
    }
  },
  "cells": [
    {
      "cell_type": "markdown",
      "metadata": {
        "id": "view-in-github",
        "colab_type": "text"
      },
      "source": [
        "<a href=\"https://colab.research.google.com/github/alu230787-sq/Repaso-Phyton/blob/main/Untitled0.ipynb\" target=\"_parent\"><img src=\"https://colab.research.google.com/assets/colab-badge.svg\" alt=\"Open In Colab\"/></a>"
      ]
    },
    {
      "cell_type": "code",
      "execution_count": null,
      "metadata": {
        "id": "ZcVYKA0D5Lqf"
      },
      "outputs": [],
      "source": [
        "Ejercicos a desarrollar en Colab con Git Hub\n",
        "1.- Realizar un programa en python que te permita capturar 2 numeros enteros e imprima la suma, la resta, la multiplicacion y la division de ambos.\n",
        "\n",
        "2.- Realizar un programa en python mediante el cual calcules el total de caracteres que tiene un nombre capturado desde el teclado\n",
        "\n",
        "3.- Realizar un programa en python que permita imprimir los 7 dias de la semana."
      ]
    },
    {
      "cell_type": "markdown",
      "source": [
        "Programa 1"
      ],
      "metadata": {
        "id": "cYPM_jtI59KX"
      }
    },
    {
      "cell_type": "code",
      "source": [
        "num1=int(input(\"Ingresa el primer numero\"))\n",
        "num2=int(input(\"Ingresa el segundo numero\"))\n",
        "\n",
        "print(\"Suma: \", num1 + num2)\n",
        "print(\"Resta: \", num1 - num2)\n",
        "print(\"Multiplicacion: \", num1 * num2)\n",
        "print(\"Division: \", num1 / num2)"
      ],
      "metadata": {
        "colab": {
          "base_uri": "https://localhost:8080/"
        },
        "id": "3cT85zZB5_Tm",
        "outputId": "ad4c4aed-3b92-45fa-86b4-f6467772c9d3"
      },
      "execution_count": 9,
      "outputs": [
        {
          "output_type": "stream",
          "name": "stdout",
          "text": [
            "Ingresa el primer numero2\n",
            "Ingresa el segundo numero5\n",
            "Suma:  7\n",
            "Resta:  -3\n",
            "Multiplicacion:  10\n",
            "Division:  0.4\n"
          ]
        }
      ]
    },
    {
      "cell_type": "markdown",
      "source": [
        "Programa 2"
      ],
      "metadata": {
        "id": "YRGfPO0t-W2l"
      }
    },
    {
      "cell_type": "code",
      "source": [
        "nombre=(input(\"Ingresa tu nombre \"))\n",
        "resultado=len(nombre)\n",
        "print(\"Total de Caracteres: \", resultado)"
      ],
      "metadata": {
        "colab": {
          "base_uri": "https://localhost:8080/"
        },
        "id": "nSnRo6Vq-ZX0",
        "outputId": "59832eaa-1493-4abe-b0fa-a4fc8af87032"
      },
      "execution_count": 10,
      "outputs": [
        {
          "output_type": "stream",
          "name": "stdout",
          "text": [
            "Ingresa tu nombre angela\n",
            "Total de Caracteres:  6\n"
          ]
        }
      ]
    },
    {
      "cell_type": "markdown",
      "source": [
        "Programa 3"
      ],
      "metadata": {
        "id": "RktgYwSl_tiF"
      }
    },
    {
      "cell_type": "code",
      "source": [
        "semana=(\"Lunes, Martes, Miercoles, Jueves, Viernes, sabado, Domingo\")\n",
        "print(semana)"
      ],
      "metadata": {
        "colab": {
          "base_uri": "https://localhost:8080/"
        },
        "id": "TepOO4yo_wtj",
        "outputId": "8d18bf8f-436d-4579-f527-97152ee09a3e"
      },
      "execution_count": 11,
      "outputs": [
        {
          "output_type": "stream",
          "name": "stdout",
          "text": [
            "Lunes, Martes, Miercoles, Jueves, Viernes, sabado, Domingo\n"
          ]
        }
      ]
    }
  ]
}